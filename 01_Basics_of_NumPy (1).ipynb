{
  "nbformat": 4,
  "nbformat_minor": 0,
  "metadata": {
    "kernelspec": {
      "display_name": "Python 3",
      "language": "python",
      "name": "python3"
    },
    "language_info": {
      "codemirror_mode": {
        "name": "ipython",
        "version": 3
      },
      "file_extension": ".py",
      "mimetype": "text/x-python",
      "name": "python",
      "nbconvert_exporter": "python",
      "pygments_lexer": "ipython3",
      "version": "3.7.3"
    },
    "colab": {
      "name": "01_Basics_of_NumPy.ipynb",
      "provenance": [],
      "collapsed_sections": []
    }
  },
  "cells": [
    {
      "cell_type": "markdown",
      "metadata": {
        "id": "hcYRnGo3bk-2"
      },
      "source": [
        "# Introduction to NumPy"
      ]
    },
    {
      "cell_type": "markdown",
      "metadata": {
        "id": "ss0Z90I6bk-4"
      },
      "source": [
        "**NumPy** is a library written for scientific computing and data analysis. It stands for numerical python.\n",
        "\n",
        "The most basic object in NumPy is the ```array```, which is **homogenous** in nature. By homogenous, we mean that all the elements in a numpy array have to be of the **same data type**, which is commonly numeric (float or integer). "
      ]
    },
    {
      "cell_type": "markdown",
      "metadata": {
        "id": "OP1u1m-ubk-4"
      },
      "source": [
        "### Numpy vs Lists "
      ]
    },
    {
      "cell_type": "code",
      "metadata": {
        "colab": {
          "base_uri": "https://localhost:8080/",
          "height": 225
        },
        "id": "i4VJnt-vbk-5",
        "outputId": "df0ae89f-8300-4684-f3b2-6668ffeaec07"
      },
      "source": [
        "# intialise a list with the following elements: 1, 2, 3, 4, 5\n",
        "l = [1,2,3,4,5]\n",
        "\n",
        "# try to multiply 2.5 directly to the created list\n",
        "l = l*2.5 \n",
        "# dont do this\n"
      ],
      "execution_count": null,
      "outputs": [
        {
          "output_type": "error",
          "ename": "TypeError",
          "evalue": "ignored",
          "traceback": [
            "\u001b[0;31m---------------------------------------------------------------------------\u001b[0m",
            "\u001b[0;31mTypeError\u001b[0m                                 Traceback (most recent call last)",
            "\u001b[0;32m<ipython-input-2-b043cd739df8>\u001b[0m in \u001b[0;36m<module>\u001b[0;34m()\u001b[0m\n\u001b[1;32m      3\u001b[0m \u001b[0;34m\u001b[0m\u001b[0m\n\u001b[1;32m      4\u001b[0m \u001b[0;31m# try to multiply 2.5 directly to the created list\u001b[0m\u001b[0;34m\u001b[0m\u001b[0;34m\u001b[0m\u001b[0;34m\u001b[0m\u001b[0m\n\u001b[0;32m----> 5\u001b[0;31m \u001b[0ml\u001b[0m \u001b[0;34m=\u001b[0m \u001b[0ml\u001b[0m\u001b[0;34m*\u001b[0m\u001b[0;36m2.5\u001b[0m\u001b[0;34m\u001b[0m\u001b[0;34m\u001b[0m\u001b[0m\n\u001b[0m\u001b[1;32m      6\u001b[0m \u001b[0;31m# dont do this\u001b[0m\u001b[0;34m\u001b[0m\u001b[0;34m\u001b[0m\u001b[0;34m\u001b[0m\u001b[0m\n",
            "\u001b[0;31mTypeError\u001b[0m: can't multiply sequence by non-int of type 'float'"
          ]
        }
      ]
    },
    {
      "cell_type": "markdown",
      "metadata": {
        "id": "KKZh6ul3bk-6"
      },
      "source": [
        "Lists cannot operate over the entire data together. You need to run _map_ or _apply_ functions to multiply each element with 2.5. Let's try to perform this using a NumPy array."
      ]
    },
    {
      "cell_type": "markdown",
      "metadata": {
        "id": "fVtZ-QF3bk-6"
      },
      "source": [
        "### Creating NumPy Arrays \n",
        "\n",
        "There are multiple ways to create numpy arrays, the most commmon ones being:\n",
        "* Convert lists or tuples to arrays using ```np.array()```\n",
        "* Initialise arrays of fixed size (when the size is known) "
      ]
    },
    {
      "cell_type": "code",
      "metadata": {
        "id": "GibbTN4Nbk-7"
      },
      "source": [
        "# Import the numpy library\n",
        "# np is simply an alias, you may use any other alias, though np is quite standard\n",
        "import numpy as np\n"
      ],
      "execution_count": null,
      "outputs": []
    },
    {
      "cell_type": "code",
      "metadata": {
        "id": "B-ZboPoObk-7"
      },
      "source": [
        "# Creating a 1-D array using a list\n",
        "# np.array() takes in a list or a tuple as argument, and converts into an array\n",
        "\n",
        "np_l = np.array([1,2,3,4,5])"
      ],
      "execution_count": null,
      "outputs": []
    },
    {
      "cell_type": "code",
      "metadata": {
        "id": "br-IQxcHbk-8"
      },
      "source": [
        "# Multiply each element with 2.5 \n",
        "\n",
        "np_l = np_l*2.5"
      ],
      "execution_count": null,
      "outputs": []
    },
    {
      "cell_type": "code",
      "metadata": {
        "colab": {
          "base_uri": "https://localhost:8080/"
        },
        "id": "evYG4DzIbk-8",
        "outputId": "807b377f-6cc7-4088-e812-12c3a8dbb592"
      },
      "source": [
        "# Print the result using the print command. Compare the structure of list and array.\n",
        "print(np_l)"
      ],
      "execution_count": null,
      "outputs": [
        {
          "output_type": "stream",
          "text": [
            "[ 2.5  5.   7.5 10.  12.5]\n"
          ],
          "name": "stdout"
        }
      ]
    },
    {
      "cell_type": "code",
      "metadata": {
        "colab": {
          "base_uri": "https://localhost:8080/"
        },
        "id": "xNFvvi6lbk-9",
        "outputId": "e9f78045-8a84-431b-afac-ba34eb07b1c5"
      },
      "source": [
        "# Create a 1-D array using with the elements (1, abc, True)\n",
        "\n",
        "myArray = np.array([1, \"abc\", True])\n",
        "print(myArray)  \n",
        "# as we have told the numpy array are homogenous in nature i.e all elements should\n",
        "# have same data type thus an array of mixed element gets coverted into a same data type"
      ],
      "execution_count": null,
      "outputs": [
        {
          "output_type": "stream",
          "text": [
            "['1' 'abc' 'True']\n"
          ],
          "name": "stdout"
        }
      ]
    },
    {
      "cell_type": "markdown",
      "metadata": {
        "id": "fLBv1naZbk--"
      },
      "source": [
        "You can see above that the elements are of single data type. The numerical and the boolean value is converted to string. "
      ]
    },
    {
      "cell_type": "markdown",
      "metadata": {
        "id": "dWwovclWbk--"
      },
      "source": [
        "### Operations over Arrays\n",
        "One thing to note here is that NumPy comes with its own set of methods and operations. You should not assume that the operators will work in the same way as lists. Look at the example below."
      ]
    },
    {
      "cell_type": "code",
      "metadata": {
        "colab": {
          "base_uri": "https://localhost:8080/"
        },
        "id": "WkcOUfErbk-_",
        "outputId": "a48ae795-f1b5-446e-8e24-716fa2c9cde1"
      },
      "source": [
        "# Create 2 lists with elements (1, 2, 3) and (4, 5, 6)\n",
        "list1 = [1,2,3]\n",
        "list2 = [4,5,6]\n",
        "\n",
        "# Use the '+' operator and print the results\n",
        "list1 + list2\n"
      ],
      "execution_count": null,
      "outputs": [
        {
          "output_type": "execute_result",
          "data": {
            "text/plain": [
              "[1, 2, 3, 4, 5, 6]"
            ]
          },
          "metadata": {},
          "execution_count": 8
        }
      ]
    },
    {
      "cell_type": "code",
      "metadata": {
        "colab": {
          "base_uri": "https://localhost:8080/"
        },
        "id": "SA8pfIfCbk-_",
        "outputId": "5e26506f-d7fa-44dc-f9ff-0c91cbf55cd9"
      },
      "source": [
        "# Convert the above lists to arrays and use the '+' operator\n",
        "\n",
        "np_1 = np.array(list1)\n",
        "np_2 = np.array(list2)\n",
        "\n",
        "np_1 + np_2\n"
      ],
      "execution_count": null,
      "outputs": [
        {
          "output_type": "execute_result",
          "data": {
            "text/plain": [
              "array([5, 7, 9])"
            ]
          },
          "metadata": {},
          "execution_count": 9
        }
      ]
    },
    {
      "cell_type": "markdown",
      "metadata": {
        "id": "CnTcThk1bk-_"
      },
      "source": [
        "You can look at the difference between the two outputs. We will look at different operations over NumPy arrays in detail in the coming segments."
      ]
    }
  ]
}